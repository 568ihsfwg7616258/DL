{
 "cells": [
  {
   "cell_type": "code",
   "execution_count": 6,
   "metadata": {},
   "outputs": [
    {
     "name": "stdout",
     "output_type": "stream",
     "text": [
      "Requirement already satisfied: functions in c:\\users\\10\\anaconda3\\lib\\site-packages (0.7.0)\n",
      "Note: you may need to restart the kernel to use updated packages.\n"
     ]
    }
   ],
   "source": [
    "%pip install functions\n"
   ]
  },
  {
   "cell_type": "code",
   "execution_count": 6,
   "metadata": {},
   "outputs": [],
   "source": [
    "fieldDict = dict.fromkeys([0, 1, 2, 3, 11, 12, 13, 14])\n",
    "fieldDict[0] = {'bmi':(862, 864), 'weight':(832, 841)}\n",
    "fieldDict[1] = {'bmi':(725, 730), 'weight':(686, 695)}"
   ]
  },
  {
   "cell_type": "code",
   "execution_count": null,
   "metadata": {},
   "outputs": [],
   "source": [
    "#def fieldDictBuild():\n",
    "  #  fieldDict = dict.fromkeys(range(15))  # ایجاد یک دیکشنری با کلیدهای 0 تا 14\n",
    "  #  fieldDict[0] = {'bmi': (862, 864), 'weight': (832, 841)}\n",
    "   # fieldDict[1] = {'bmi': (725, 730), 'weight': (686, 695)}\n",
    "    # ... (ادامه دهید با مقداردهی بقیه کلیدها)\n",
    "   # fieldDict[14] = {'bmi': (2247, 2250), 'weight': (2007, 2016)}\n",
    "   # return fieldDict"
   ]
  },
  {
   "cell_type": "code",
   "execution_count": null,
   "metadata": {},
   "outputs": [],
   "source": [
    "from ModuleDir import functions"
   ]
  },
  {
   "cell_type": "code",
   "execution_count": 4,
   "metadata": {},
   "outputs": [
    {
     "ename": "AttributeError",
     "evalue": "'str' object has no attribute 'insert'",
     "output_type": "error",
     "traceback": [
      "\u001b[1;31m---------------------------------------------------------------------------\u001b[0m",
      "\u001b[1;31mAttributeError\u001b[0m                            Traceback (most recent call last)",
      "Cell \u001b[1;32mIn[4], line 4\u001b[0m\n\u001b[0;32m      1\u001b[0m \u001b[38;5;28;01mimport\u001b[39;00m \u001b[38;5;21;01msys\u001b[39;00m\n\u001b[0;32m      2\u001b[0m path \u001b[38;5;241m=\u001b[39m \u001b[38;5;124m'\u001b[39m\u001b[38;5;124m./ModuleDir\u001b[39m\u001b[38;5;124m'\u001b[39m\n\u001b[1;32m----> 4\u001b[0m \u001b[43mpath\u001b[49m\u001b[38;5;241;43m.\u001b[39;49m\u001b[43minsert\u001b[49m(\u001b[38;5;241m0\u001b[39m, \u001b[38;5;124m'\u001b[39m\u001b[38;5;124m./ModuleDir\u001b[39m\u001b[38;5;124m'\u001b[39m)\n\u001b[0;32m      6\u001b[0m \u001b[38;5;28;01mfrom\u001b[39;00m \u001b[38;5;21;01mfunctions\u001b[39;00m \u001b[38;5;28;01mimport\u001b[39;00m fieldDictBuild\n\u001b[0;32m      8\u001b[0m fieldDict \u001b[38;5;241m=\u001b[39m fieldDictBuild()\n",
      "\u001b[1;31mAttributeError\u001b[0m: 'str' object has no attribute 'insert'"
     ]
    }
   ],
   "source": [
    "import sys\n",
    "path = './ModuleDir'\n",
    "\n",
    "path.insert(0, './ModuleDir')\n",
    "\n",
    "from functions import fieldDictBuild\n",
    "\n",
    "fieldDict = fieldDictBuild()\n"
   ]
  },
  {
   "cell_type": "code",
   "execution_count": 8,
   "metadata": {},
   "outputs": [
    {
     "name": "stdout",
     "output_type": "stream",
     "text": [
      "0 {'bmi': (862, 864), 'weight': (832, 841)}\n",
      "1 {'bmi': (725, 730), 'weight': (686, 695)}\n",
      "2 None\n",
      "3 None\n",
      "11 None\n",
      "12 None\n",
      "13 None\n",
      "14 None\n"
     ]
    }
   ],
   "source": [
    "for year in fieldDict:\n",
    "    print(year, fieldDict[year])"
   ]
  },
  {
   "cell_type": "code",
   "execution_count": 9,
   "metadata": {},
   "outputs": [
    {
     "ename": "NameError",
     "evalue": "name 'functions' is not defined",
     "output_type": "error",
     "traceback": [
      "\u001b[1;31m---------------------------------------------------------------------------\u001b[0m",
      "\u001b[1;31mNameError\u001b[0m                                 Traceback (most recent call last)",
      "Cell \u001b[1;32mIn[9], line 1\u001b[0m\n\u001b[1;32m----> 1\u001b[0m fieldDict \u001b[38;5;241m=\u001b[39m \u001b[43mfunctions\u001b[49m\u001b[38;5;241m.\u001b[39mfieldDictBuild()\n",
      "\u001b[1;31mNameError\u001b[0m: name 'functions' is not defined"
     ]
    }
   ],
   "source": [
    "fieldDict = functions.fieldDictBuild()"
   ]
  },
  {
   "cell_type": "code",
   "execution_count": null,
   "metadata": {},
   "outputs": [],
   "source": [
    "from ModuleDir import functions"
   ]
  },
  {
   "cell_type": "code",
   "execution_count": null,
   "metadata": {},
   "outputs": [],
   "source": [
    "import os,sys\n",
    "\n",
    "parentDir = r'/home/Algorithms/'\n",
    "if parentDir not in set(sys.path):\n",
    "   sys.path.append(parentDir)\n",
    "   print(sys.path)\n",
    "from ModuleDir import functions\n",
    "dir(functions)"
   ]
  },
  {
   "cell_type": "code",
   "execution_count": null,
   "metadata": {},
   "outputs": [],
   "source": [
    "import importlib\n",
    "reload(functions) # Python 3.4 or above"
   ]
  },
  {
   "cell_type": "code",
   "execution_count": null,
   "metadata": {},
   "outputs": [],
   "source": [
    "import imp\n",
    "imp.reload(functions) # Python 2 and 3.2-3.3"
   ]
  },
  {
   "cell_type": "code",
   "execution_count": null,
   "metadata": {},
   "outputs": [],
   "source": [
    "fieldDict = functions.fieldDictBuild()"
   ]
  },
  {
   "cell_type": "code",
   "execution_count": null,
   "metadata": {},
   "outputs": [],
   "source": [
    "path = r'./Data/' # Set the path to match your data directory.\n",
    "fileList = os.listdir(path) # Creates a list of files in path\n",
    "for filename in fileList:\n",
    "    try:\n",
    "        shortYear = int(filename[6:8])\n",
    "        year = 2000 + shortYear\n",
    "\n",
    "        fields = functions.fieldDict[shortYear]\n",
    "        sWt, eWt = fields['weight']\n",
    "        sBMI, eBMI = fields['bmi']\n",
    "\n",
    "        file = path+filename\n",
    "        print(file,sWt, eWt,sBMI, eBMI)\n",
    "    except(ValueError, KeyError):\n",
    "        pass"
   ]
  },
  {
   "cell_type": "code",
   "execution_count": null,
   "metadata": {},
   "outputs": [],
   "source": [
    "with open(file, 'r', encoding='latin-1') as f:\n",
    "    for record in f:\n",
    "        print(len(record))"
   ]
  },
  {
   "cell_type": "code",
   "execution_count": null,
   "metadata": {},
   "outputs": [],
   "source": [
    "weight = float(record[sWt-1:eWt])\n",
    "bmiString = record[sBMI-1:eBMI]"
   ]
  },
  {
   "cell_type": "code",
   "execution_count": null,
   "metadata": {},
   "outputs": [],
   "source": [
    "bmi = 0\n",
    "if shortYear == 0 and bmiString != '999':\n",
    "    bmi = .1*float(bmiString)\n",
    "if shortYear == 1 and bmiString != '999999':\n",
    "    bmi = .0001*float(bmiString)\n",
    "if 2 <= shortYear <= 10 and bmiString != '9999':\n",
    "    bmi = .01*float(bmiString)\n",
    "if shortYear > 10 and bmiString != ' ':\n",
    "    bmi = .01*float(bmiString)\n",
    "print(bmiString, bmi)"
   ]
  },
  {
   "cell_type": "code",
   "execution_count": null,
   "metadata": {},
   "outputs": [],
   "source": [
    "def convertBMI(bmiString, shortYear):"
   ]
  },
  {
   "cell_type": "code",
   "execution_count": null,
   "metadata": {},
   "outputs": [],
   "source": [
    "bmi = convertBMI(bmiString, shortYear)"
   ]
  },
  {
   "cell_type": "code",
   "execution_count": null,
   "metadata": {},
   "outputs": [],
   "source": [
    "bmi = functions.convertBMI(bmiString, shortYear)"
   ]
  },
  {
   "cell_type": "code",
   "execution_count": null,
   "metadata": {},
   "outputs": [],
   "source": [
    "intervals = [(10+i, 10+(i+1)) for i in range(65)]"
   ]
  },
  {
   "cell_type": "code",
   "execution_count": null,
   "metadata": {},
   "outputs": [],
   "source": [
    "years = [2000, 2001, 2002, 2003, 2011, 2012, 2013, 2014]\n",
    "histDict = {}\n",
    "for year in years:\n",
    "    histDict[year] = dict.fromkeys(intervals,0)"
   ]
  },
  {
   "cell_type": "code",
   "execution_count": null,
   "metadata": {},
   "outputs": [],
   "source": [
    "for interval in histogram:\n",
    "    if interval[0] < bmi <= interval[1]:\n",
    "       histogram[interval] += weight\n",
    "       break"
   ]
  },
  {
   "cell_type": "code",
   "execution_count": null,
   "metadata": {},
   "outputs": [],
   "source": [
    "n += 1\n",
    "outCounter += int(bmi < 10 or bmi > 75)\n",
    "if n % 10000 == 0:\n",
    "   print(year,n,outCounter)"
   ]
  },
  {
   "cell_type": "code",
   "execution_count": null,
   "metadata": {},
   "outputs": [],
   "source": [
    "decadeWts = [0]*2\n",
    "decades = [0, 1]\n",
    "decadeDict = {}\n",
    "for decade in decades:\n",
    "    decadeDict[decade] = dict.fromkeys(intervals, 0)"
   ]
  },
  {
   "cell_type": "code",
   "execution_count": null,
   "metadata": {},
   "outputs": [],
   "source": [
    "for year in years:\n",
    "    decade = int(year/2005)\n",
    "    histogram = histDict[year]"
   ]
  },
  {
   "cell_type": "code",
   "execution_count": null,
   "metadata": {},
   "outputs": [],
   "source": [
    "for interval in histogram:\n",
    "    weightSum = histogram[interval]\n",
    "    decadeDict[decade][interval] += weightSum\n",
    "    decadeWts[decade] += weightSum"
   ]
  },
  {
   "cell_type": "code",
   "execution_count": null,
   "metadata": {},
   "outputs": [],
   "source": [
    "for decade in decadeDict:\n",
    "    histogram = decadeDict[decade]\n",
    "    for interval in histogram:\n",
    "        histogram[interval] = histogram[interval]/decadeWts[decade]"
   ]
  },
  {
   "cell_type": "code",
   "execution_count": null,
   "metadata": {},
   "outputs": [],
   "source": [
    "import matplotlib.pyplot as plt\n",
    "\n",
    "x = [np.mean(pair) for pair in intervals if pair[0] < 50]\n",
    "y = [decadeDict[0][pair] for pair in intervals if pair[0] < 50]\n",
    "plt.plot(x, y)\n",
    "y = [decadeDict[1][pair] for pair in intervals if pair[0] < 50]\n",
    "plt.plot(x, y)\n",
    "plt.legend([str(label) for label in range(2)], loc='upper right')"
   ]
  },
  {
   "cell_type": "code",
   "execution_count": null,
   "metadata": {},
   "outputs": [],
   "source": [
    "x = [np.mean(pair) for pair in intervals if pair[0] < 50]\n",
    "y = [decadeDict[0][pair] for pair in intervals if pair[0] < 50]\n",
    "plt.figure(1)\n",
    "plt.plot(x, y, drawstyle='steps')\n",
    "y = [decadeDict[1][pair] for pair in intervals if pair[0] < 50]\n",
    "plt.figure(2)\n",
    "plt.plot(x, y, drawstyle='steps')"
   ]
  },
  {
   "cell_type": "code",
   "execution_count": null,
   "metadata": {},
   "outputs": [],
   "source": [
    "print(sum([decadeDict[0][(a,b)] for a, b in decadeDict[0] if a >= 30]))"
   ]
  }
 ],
 "metadata": {
  "kernelspec": {
   "display_name": "base",
   "language": "python",
   "name": "python3"
  },
  "language_info": {
   "codemirror_mode": {
    "name": "ipython",
    "version": 3
   },
   "file_extension": ".py",
   "mimetype": "text/x-python",
   "name": "python",
   "nbconvert_exporter": "python",
   "pygments_lexer": "ipython3",
   "version": "3.12.4"
  }
 },
 "nbformat": 4,
 "nbformat_minor": 2
}
